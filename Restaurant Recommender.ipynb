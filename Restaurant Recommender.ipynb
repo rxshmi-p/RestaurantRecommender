{
 "cells": [
  {
   "cell_type": "code",
   "execution_count": 23,
   "id": "34713ce6",
   "metadata": {},
   "outputs": [],
   "source": [
    "from random import choice \n",
    "import pandas as pd "
   ]
  },
  {
   "cell_type": "code",
   "execution_count": 24,
   "id": "95b02e10",
   "metadata": {},
   "outputs": [
    {
     "data": {
      "text/html": [
       "<div>\n",
       "<style scoped>\n",
       "    .dataframe tbody tr th:only-of-type {\n",
       "        vertical-align: middle;\n",
       "    }\n",
       "\n",
       "    .dataframe tbody tr th {\n",
       "        vertical-align: top;\n",
       "    }\n",
       "\n",
       "    .dataframe thead th {\n",
       "        text-align: right;\n",
       "    }\n",
       "</style>\n",
       "<table border=\"1\" class=\"dataframe\">\n",
       "  <thead>\n",
       "    <tr style=\"text-align: right;\">\n",
       "      <th></th>\n",
       "      <th>Name</th>\n",
       "      <th>Type</th>\n",
       "      <th>City</th>\n",
       "      <th>Cusine</th>\n",
       "      <th>Vibe</th>\n",
       "    </tr>\n",
       "  </thead>\n",
       "  <tbody>\n",
       "    <tr>\n",
       "      <th>0</th>\n",
       "      <td>Tuts</td>\n",
       "      <td>Restaurant</td>\n",
       "      <td>Toronto</td>\n",
       "      <td>Egyptian</td>\n",
       "      <td>Quick but filling</td>\n",
       "    </tr>\n",
       "    <tr>\n",
       "      <th>1</th>\n",
       "      <td>Found Coffee</td>\n",
       "      <td>Cafe</td>\n",
       "      <td>Toronto</td>\n",
       "      <td>American</td>\n",
       "      <td>Bougie Coffee</td>\n",
       "    </tr>\n",
       "    <tr>\n",
       "      <th>2</th>\n",
       "      <td>Studio 89</td>\n",
       "      <td>Cafe</td>\n",
       "      <td>Mississauga</td>\n",
       "      <td>American</td>\n",
       "      <td>Comfort foods/WFH</td>\n",
       "    </tr>\n",
       "    <tr>\n",
       "      <th>3</th>\n",
       "      <td>Impact Kitchen</td>\n",
       "      <td>Restaurant</td>\n",
       "      <td>Toronto</td>\n",
       "      <td>American</td>\n",
       "      <td>Healthy</td>\n",
       "    </tr>\n",
       "    <tr>\n",
       "      <th>4</th>\n",
       "      <td>Chiangmai</td>\n",
       "      <td>Restaurant</td>\n",
       "      <td>Etobicoke</td>\n",
       "      <td>Thai</td>\n",
       "      <td>Dinner</td>\n",
       "    </tr>\n",
       "    <tr>\n",
       "      <th>5</th>\n",
       "      <td>1 Kitchen Toronto</td>\n",
       "      <td>Restaurant</td>\n",
       "      <td>Toronto</td>\n",
       "      <td>American</td>\n",
       "      <td>Bougie Brunch</td>\n",
       "    </tr>\n",
       "    <tr>\n",
       "      <th>6</th>\n",
       "      <td>Bar Poet</td>\n",
       "      <td>Bar</td>\n",
       "      <td>Toronto</td>\n",
       "      <td>Pub Food</td>\n",
       "      <td>Fun City Night</td>\n",
       "    </tr>\n",
       "  </tbody>\n",
       "</table>\n",
       "</div>"
      ],
      "text/plain": [
       "                Name        Type         City    Cusine               Vibe\n",
       "0               Tuts  Restaurant      Toronto  Egyptian  Quick but filling\n",
       "1       Found Coffee        Cafe      Toronto  American      Bougie Coffee\n",
       "2          Studio 89        Cafe  Mississauga  American  Comfort foods/WFH\n",
       "3     Impact Kitchen  Restaurant      Toronto  American            Healthy\n",
       "4          Chiangmai  Restaurant    Etobicoke      Thai             Dinner\n",
       "5  1 Kitchen Toronto  Restaurant      Toronto  American      Bougie Brunch\n",
       "6           Bar Poet         Bar      Toronto  Pub Food     Fun City Night"
      ]
     },
     "execution_count": 24,
     "metadata": {},
     "output_type": "execute_result"
    }
   ],
   "source": [
    "# Name, Restaurant/Cafe/Bar, City, Cusine, Vibe,  \n",
    "my_list = [['Tuts', 'Restaurant', 'Toronto', 'Egyptian', 'Quick but filling'], \n",
    "           ['Found Coffee', 'Cafe', 'Toronto', 'American', 'Bougie Coffee'], \n",
    "           ['Studio 89', 'Cafe', 'Mississauga', 'American', 'Comfort foods/WFH'],\n",
    "           ['Impact Kitchen', 'Restaurant', 'Toronto', 'American', 'Healthy'],\n",
    "           ['Chiangmai', 'Restaurant', 'Etobicoke', 'Thai', 'Dinner'], \n",
    "           ['1 Kitchen Toronto', 'Restaurant', 'Toronto', 'American', 'Bougie Brunch'],\n",
    "           ['Bar Poet', 'Bar', 'Toronto', 'Pub Food', 'Fun City Night']]\n",
    "mylist = pd.DataFrame(my_list, columns=['Name', 'Type', 'City', 'Cusine', 'Vibe'])\n",
    "mylist"
   ]
  },
  {
   "cell_type": "code",
   "execution_count": 25,
   "id": "73f6c4ba",
   "metadata": {},
   "outputs": [
    {
     "name": "stdout",
     "output_type": "stream",
     "text": [
      "Enter Name, Type, City, Cusine and Vibe in comma separated listDaal Roti,Restaurant, Mississauga, Indian, High quality indian food!\n"
     ]
    }
   ],
   "source": [
    "# If you want to add a new item to the list\n",
    "new = input(\"Enter Name, Type, City, Cusine and Vibe in comma separated list\")\n",
    "sep = new.split(\",\")\n",
    "sep\n",
    "mylist.loc[len(mylist),'Name'] = sep[0]\n",
    "mylist.loc[len(mylist)-1,'Type'] = sep[1]\n",
    "mylist.loc[len(mylist)-1,'City'] = sep[2]\n",
    "mylist.loc[len(mylist)-1,'Cusine'] = sep[3]\n",
    "mylist.loc[len(mylist)-1,'Vibe'] = sep[4]"
   ]
  },
  {
   "cell_type": "code",
   "execution_count": 28,
   "id": "17c37baf",
   "metadata": {},
   "outputs": [
    {
     "data": {
      "text/html": [
       "<div>\n",
       "<style scoped>\n",
       "    .dataframe tbody tr th:only-of-type {\n",
       "        vertical-align: middle;\n",
       "    }\n",
       "\n",
       "    .dataframe tbody tr th {\n",
       "        vertical-align: top;\n",
       "    }\n",
       "\n",
       "    .dataframe thead th {\n",
       "        text-align: right;\n",
       "    }\n",
       "</style>\n",
       "<table border=\"1\" class=\"dataframe\">\n",
       "  <thead>\n",
       "    <tr style=\"text-align: right;\">\n",
       "      <th></th>\n",
       "      <th>Name</th>\n",
       "      <th>Type</th>\n",
       "      <th>City</th>\n",
       "      <th>Cusine</th>\n",
       "      <th>Vibe</th>\n",
       "    </tr>\n",
       "  </thead>\n",
       "  <tbody>\n",
       "    <tr>\n",
       "      <th>0</th>\n",
       "      <td>Tuts</td>\n",
       "      <td>Restaurant</td>\n",
       "      <td>Toronto</td>\n",
       "      <td>Egyptian</td>\n",
       "      <td>Quick but filling</td>\n",
       "    </tr>\n",
       "    <tr>\n",
       "      <th>1</th>\n",
       "      <td>Found Coffee</td>\n",
       "      <td>Cafe</td>\n",
       "      <td>Toronto</td>\n",
       "      <td>American</td>\n",
       "      <td>Bougie Coffee</td>\n",
       "    </tr>\n",
       "    <tr>\n",
       "      <th>2</th>\n",
       "      <td>Studio 89</td>\n",
       "      <td>Cafe</td>\n",
       "      <td>Mississauga</td>\n",
       "      <td>American</td>\n",
       "      <td>Comfort foods/WFH</td>\n",
       "    </tr>\n",
       "    <tr>\n",
       "      <th>3</th>\n",
       "      <td>Impact Kitchen</td>\n",
       "      <td>Restaurant</td>\n",
       "      <td>Toronto</td>\n",
       "      <td>American</td>\n",
       "      <td>Healthy</td>\n",
       "    </tr>\n",
       "    <tr>\n",
       "      <th>4</th>\n",
       "      <td>Chiangmai</td>\n",
       "      <td>Restaurant</td>\n",
       "      <td>Etobicoke</td>\n",
       "      <td>Thai</td>\n",
       "      <td>Dinner</td>\n",
       "    </tr>\n",
       "    <tr>\n",
       "      <th>5</th>\n",
       "      <td>1 Kitchen Toronto</td>\n",
       "      <td>Restaurant</td>\n",
       "      <td>Toronto</td>\n",
       "      <td>American</td>\n",
       "      <td>Bougie Brunch</td>\n",
       "    </tr>\n",
       "    <tr>\n",
       "      <th>6</th>\n",
       "      <td>Bar Poet</td>\n",
       "      <td>Bar</td>\n",
       "      <td>Toronto</td>\n",
       "      <td>Pub Food</td>\n",
       "      <td>Fun City Night</td>\n",
       "    </tr>\n",
       "    <tr>\n",
       "      <th>7</th>\n",
       "      <td>Daal Roti</td>\n",
       "      <td>Restaurant</td>\n",
       "      <td>Mississauga</td>\n",
       "      <td>Indian</td>\n",
       "      <td>High quality indian food!</td>\n",
       "    </tr>\n",
       "  </tbody>\n",
       "</table>\n",
       "</div>"
      ],
      "text/plain": [
       "                Name        Type          City    Cusine  \\\n",
       "0               Tuts  Restaurant       Toronto  Egyptian   \n",
       "1       Found Coffee        Cafe       Toronto  American   \n",
       "2          Studio 89        Cafe   Mississauga  American   \n",
       "3     Impact Kitchen  Restaurant       Toronto  American   \n",
       "4          Chiangmai  Restaurant     Etobicoke      Thai   \n",
       "5  1 Kitchen Toronto  Restaurant       Toronto  American   \n",
       "6           Bar Poet         Bar       Toronto  Pub Food   \n",
       "7          Daal Roti  Restaurant   Mississauga    Indian   \n",
       "\n",
       "                         Vibe  \n",
       "0           Quick but filling  \n",
       "1               Bougie Coffee  \n",
       "2           Comfort foods/WFH  \n",
       "3                     Healthy  \n",
       "4                      Dinner  \n",
       "5               Bougie Brunch  \n",
       "6              Fun City Night  \n",
       "7   High quality indian food!  "
      ]
     },
     "execution_count": 28,
     "metadata": {},
     "output_type": "execute_result"
    }
   ],
   "source": [
    "#full list \n",
    "mylist"
   ]
  },
  {
   "cell_type": "code",
   "execution_count": 31,
   "id": "891fc768",
   "metadata": {},
   "outputs": [
    {
     "name": "stdout",
     "output_type": "stream",
     "text": [
      "what city are you going to?\n",
      "Toronto\n"
     ]
    }
   ],
   "source": [
    "print(\"what city are you going to?\")\n",
    "city = input()"
   ]
  },
  {
   "cell_type": "code",
   "execution_count": 37,
   "id": "e0d74339",
   "metadata": {},
   "outputs": [
    {
     "name": "stdout",
     "output_type": "stream",
     "text": [
      "You should try Bar Poet\n",
      "Other options in Toronto:\n",
      "['Tuts', 'Found Coffee', 'Impact Kitchen', '1 Kitchen Toronto', 'Bar Poet']\n"
     ]
    }
   ],
   "source": [
    "subset = []\n",
    "for i in mylist.index:\n",
    "    if mylist.iloc[i,2]==city:\n",
    "        subset.append(mylist.loc[i,\"Name\"])\n",
    "print(\"You should try \" + choice(subset))\n",
    "print(\"Other options in \" + city + \":\")\n",
    "print(subset)\n"
   ]
  },
  {
   "cell_type": "code",
   "execution_count": null,
   "id": "5f5d03ef",
   "metadata": {},
   "outputs": [],
   "source": []
  },
  {
   "cell_type": "code",
   "execution_count": null,
   "id": "db958f73",
   "metadata": {},
   "outputs": [],
   "source": []
  },
  {
   "cell_type": "code",
   "execution_count": null,
   "id": "5d9c5664",
   "metadata": {},
   "outputs": [],
   "source": []
  }
 ],
 "metadata": {
  "kernelspec": {
   "display_name": "Python 3 (ipykernel)",
   "language": "python",
   "name": "python3"
  },
  "language_info": {
   "codemirror_mode": {
    "name": "ipython",
    "version": 3
   },
   "file_extension": ".py",
   "mimetype": "text/x-python",
   "name": "python",
   "nbconvert_exporter": "python",
   "pygments_lexer": "ipython3",
   "version": "3.9.7"
  }
 },
 "nbformat": 4,
 "nbformat_minor": 5
}
